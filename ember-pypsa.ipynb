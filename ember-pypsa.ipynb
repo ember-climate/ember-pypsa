{
 "cells": [
  {
   "cell_type": "code",
   "execution_count": 59,
   "metadata": {},
   "outputs": [
    {
     "name": "stdout",
     "output_type": "stream",
     "text": [
      "The autoreload extension is already loaded. To reload it, use:\n",
      "  %reload_ext autoreload\n"
     ]
    }
   ],
   "source": [
    "import numpy as np\n",
    "import pandas as pd\n",
    "import pypsa\n",
    "import highspy \n",
    "from helper_functions import grouped_gas_ramping, chp_unit_profile\n",
    "\n",
    "%matplotlib inline\n",
    "%load_ext autoreload\n",
    "%autoreload 2"
   ]
  },
  {
   "cell_type": "code",
   "execution_count": 60,
   "metadata": {},
   "outputs": [],
   "source": [
    "DATA_FILE = 'uk-2030-falling-short.xlsx'"
   ]
  },
  {
   "cell_type": "code",
   "execution_count": 62,
   "metadata": {},
   "outputs": [],
   "source": [
    "add_gas_ramping = False\n",
    "hydrogen_demand = True\n",
    "gas_expansion = False\n",
    "filter_operating_ff_plants = False"
   ]
  },
  {
   "cell_type": "code",
   "execution_count": 63,
   "metadata": {},
   "outputs": [],
   "source": [
    "load = pd.read_excel(DATA_FILE, sheet_name='load', parse_dates=['t'], index_col='t',usecols='A:AK').dropna(axis=1, how='all').dropna()\n",
    "load_hydrogen = pd.read_excel(DATA_FILE, sheet_name='load_hydrogen', parse_dates=['t'], index_col='t',usecols='A:AK').dropna(axis=1, how='all').dropna()\n",
    "pv = pd.read_excel(DATA_FILE, sheet_name='pv', parse_dates=['t'], index_col='t',usecols='A:AK').dropna(axis=1, how='all').dropna()\n",
    "wind = pd.read_excel(DATA_FILE, sheet_name='wind', parse_dates=['t'], index_col='t',usecols='A:AK').dropna(axis=1, how='all').dropna()\n",
    "wind_offshore = pd.read_excel(DATA_FILE, sheet_name='wind_offshore', parse_dates=['t'], index_col='t',usecols='A:AK').dropna(axis=1, how='all').dropna()\n",
    "ror = pd.read_excel(DATA_FILE, sheet_name='ror', parse_dates=['t'], index_col='t',usecols='A:AK').dropna(axis=1, how='all').dropna()\n",
    "inflow = pd.read_excel(DATA_FILE, sheet_name='inflow', parse_dates=['t'], index_col='t',usecols='A:AK').dropna(axis=1, how='all').dropna()\n",
    "chp = pd.read_excel(DATA_FILE, sheet_name='chp', parse_dates=['t'], index_col='t').dropna(axis=1, how='all').dropna()\n",
    "chp_bio = pd.read_excel(DATA_FILE, sheet_name='chp_bio', parse_dates=['t'], index_col='t').dropna(axis=1, how='all').dropna()\n",
    "\n",
    "buses = pd.read_excel(DATA_FILE, sheet_name='buses', index_col=0, usecols='A:G')\n",
    "cbf_buses = pd.read_excel(DATA_FILE, sheet_name='cbf_buses', index_col=0, usecols='A:F')\n",
    "buses_hydrogen = pd.read_excel(DATA_FILE, sheet_name='buses_hydrogen', index_col=0, usecols='A:D')\n",
    "lines = pd.read_excel(DATA_FILE, sheet_name='lines', index_col='name').dropna(axis=1, how='all').dropna()\n",
    "links = pd.read_excel(DATA_FILE, sheet_name='links', index_col=0, usecols='A:G').dropna(axis=1, how='all').dropna()\n",
    "links_electrolysis = pd.read_excel(DATA_FILE, sheet_name='links_electrolysis', index_col=0, usecols='A:I').dropna(axis=1, how='all').dropna()\n",
    "gen_pv = pd.read_excel(DATA_FILE, sheet_name='gen_pv', index_col=0, usecols='A:E')\n",
    "gen_wind = pd.read_excel(DATA_FILE, sheet_name='gen_wind', index_col=0, usecols='A:E')\n",
    "gen_wind_offshore = pd.read_excel(DATA_FILE, sheet_name='gen_wind_offshore', index_col=0, usecols='A:E')\n",
    "gen_gas = pd.read_excel(DATA_FILE, sheet_name='gen_gas', index_col=0, usecols='A:M')\n",
    "gen_oil = pd.read_excel(DATA_FILE, sheet_name='gen_oil', index_col=0, usecols='A:J')\n",
    "gen_coal = pd.read_excel(DATA_FILE, sheet_name='gen_coal', index_col=0,usecols='A:N')\n",
    "gen_nuclear = pd.read_excel(DATA_FILE, sheet_name='gen_nuclear', index_col=0, usecols='A:I')\n",
    "gen_biomass = pd.read_excel(DATA_FILE, sheet_name='gen_biomass', index_col=0, usecols='A:G')\n",
    "gen_biogas = pd.read_excel(DATA_FILE, sheet_name='gen_biogas', index_col=0, usecols='A:G')\n",
    "gen_ror = pd.read_excel(DATA_FILE, sheet_name='gen_ror', index_col=0, usecols='A:E')\n",
    "gen_reservoir = pd.read_excel(DATA_FILE, sheet_name='gen_reservoir', index_col=0, usecols='A:E')\n",
    "gen_other_res = pd.read_excel(DATA_FILE, sheet_name='gen_other_res', index_col=0, usecols='A:F')\n",
    "gen_dsr = pd.read_excel(DATA_FILE, sheet_name='gen_dsr', index_col=0, usecols='A:F')\n",
    "gen_gas_chp = pd.read_excel(DATA_FILE, sheet_name='gen_gas_chp', index_col=0, usecols='A:R')\n",
    "gen_coal_chp = pd.read_excel(DATA_FILE, sheet_name='gen_coal_chp', index_col=0, usecols='A:R')\n",
    "gen_oil_chp = pd.read_excel(DATA_FILE, sheet_name='gen_oil_chp', index_col=0, usecols='A:G')\n",
    "gen_res_chp = pd.read_excel(DATA_FILE, sheet_name='gen_res_chp', index_col=0, usecols='A:G')\n",
    "gen_bio_chp = pd.read_excel(DATA_FILE, sheet_name='gen_bio_chp', index_col=0, usecols='A:G')\n",
    "gen_cbf = pd.read_excel(DATA_FILE, sheet_name='gen_cbf', index_col=0, usecols='A:E')\n",
    "st_hps = pd.read_excel(DATA_FILE, sheet_name='st_hps', index_col=0, usecols='A:I')\n",
    "st_battery = pd.read_excel(DATA_FILE, sheet_name='st_battery', index_col=0, usecols='A:I')\n",
    "st_hydrogen = pd.read_excel(DATA_FILE, sheet_name='st_hydrogen', index_col=0, usecols='A:D')\n",
    "st_other = pd.read_excel(DATA_FILE, sheet_name='st_other', index_col=0, usecols='A:I')"
   ]
  },
  {
   "cell_type": "code",
   "execution_count": 64,
   "metadata": {},
   "outputs": [],
   "source": [
    "if filter_operating_ff_plants:\n",
    "    gen_gas = gen_gas[gen_gas['status']=='operating']\n",
    "    gen_gas_chp = gen_gas_chp[gen_gas_chp['status']=='operating']\n",
    "    gen_coal = gen_coal[gen_coal['s tatus']=='operational']\n",
    "    gen_coal_chp = gen_coal_chp[gen_coal_chp['status']=='operational']"
   ]
  },
  {
   "cell_type": "code",
   "execution_count": 65,
   "metadata": {},
   "outputs": [],
   "source": [
    "if add_gas_ramping:\n",
    "    gen_gas = grouped_gas_ramping(gen_gas)"
   ]
  },
  {
   "cell_type": "code",
   "execution_count": 66,
   "metadata": {},
   "outputs": [],
   "source": [
    "# create chp timeseries based on country \n",
    "gas_chp_timeseries=chp_unit_profile(chp, gen_gas_chp)\n",
    "coal_chp_timeseries=chp_unit_profile(chp, gen_coal_chp)\n",
    "oil_chp_timeseries=chp_unit_profile(chp, gen_oil_chp)\n",
    "res_chp_timeseries=chp_unit_profile(chp, gen_res_chp)"
   ]
  },
  {
   "cell_type": "code",
   "execution_count": 67,
   "metadata": {},
   "outputs": [],
   "source": [
    "network = pypsa.Network()\n",
    "network.set_snapshots(load.index)\n",
    "\n",
    "network.import_components_from_dataframe(buses, 'Bus')\n",
    "network.import_components_from_dataframe(cbf_buses, 'Bus')\n",
    "network.import_components_from_dataframe(buses_hydrogen, 'Bus')\n",
    "\n",
    "network.import_components_from_dataframe(lines, 'Line')\n",
    "network.lines['s_nom_extendable'] = True  \n",
    "\n",
    "network.madd(\"Link\", links.index,\n",
    "             bus0=links['bus0'].tolist(), bus1= links['bus1'].tolist(),\n",
    "             p_nom=links['p_nom'].tolist())\n",
    "\n",
    "network.madd(\"Generator\", gen_cbf.index, suffix='_CBF', carrier='CBF',\n",
    "             bus=gen_cbf.index.tolist(), p_nom=gen_cbf['p_nom'].to_list(), p_nom_extendable=False, \n",
    "             marginal_cost=gen_cbf['marginal_cost'].to_list())\n",
    "\n",
    "dict_carriers = {\n",
    "    'Lignite': 0.334, 'Hard coal': 0.354, 'Gas': 0.187, 'Gas CCS': 0, 'Oil': 0.334, 'Hydrogen': 0, 'Biomass': 0.403, 'Biogas': 0.178, 'BECCS': 0,\n",
    "    'Geothermal': 0.026, 'Wind': 0, 'Wind offshore': 0, 'PV': 0, 'HPS': 0, 'Hydro': 0, 'Other RES': 0, 'CBF': 0, 'VOLL': 0, 'Battery': 0, 'Other storage' : 0, 'Nuclear': 0, 'Electrolysis':0, 'Hydrogen storage':0, 'Hydrogen for power':0\n",
    "}\n",
    "\n",
    "for carrier in dict_carriers:\n",
    "    network.add(\"Carrier\", name=carrier, co2_emissions=dict_carriers[carrier])\n",
    "\n",
    "network.madd(\"Load\", load.columns, bus=load.columns, p_set=load)\n",
    "if hydrogen_demand:\n",
    "    network.madd(\"Load\", load_hydrogen.columns, bus=load_hydrogen.columns, p_set=load_hydrogen, carrier='Hydrogen')"
   ]
  },
  {
   "cell_type": "code",
   "execution_count": 68,
   "metadata": {
    "scrolled": true
   },
   "outputs": [
    {
     "data": {
      "text/plain": [
       "Index(['EN_NorthEast_H2_Storage', 'EN_NorthWest_H2_Storage',\n",
       "       'EN_Yorkshire_H2_Storage', 'EN_EastMidlands_H2_Storage',\n",
       "       'EN_WestMidlands_H2_Storage', 'EN_East_H2_Storage',\n",
       "       'EN_London_H2_Storage', 'EN_SouthEast_H2_Storage',\n",
       "       'EN_SouthWest_H2_Storage', 'EN_Wales_H2_Storage', 'Scotland_H2_Storage',\n",
       "       'NorthernIreland_H2_Storage', 'Austria_H2_Storage',\n",
       "       'Belgium_H2_Storage', 'Bulgaria_H2_Storage', 'Croatia_H2_Storage',\n",
       "       'Czechia_H2_Storage', 'Denmark_H2_Storage', 'Estonia_H2_Storage',\n",
       "       'Finland_H2_Storage', 'France_H2_Storage', 'Germany_H2_Storage',\n",
       "       'Greece_H2_Storage', 'Hungary_H2_Storage', 'Ireland_H2_Storage',\n",
       "       'Italy_H2_Storage', 'Latvia_H2_Storage', 'Lithuania_H2_Storage',\n",
       "       'Netherlands_H2_Storage', 'Poland_H2_Storage', 'Portugal_H2_Storage',\n",
       "       'Romania_H2_Storage', 'Slovakia_H2_Storage', 'Slovenia_H2_Storage',\n",
       "       'Spain_H2_Storage', 'Sweden_H2_Storage'],\n",
       "      dtype='object', name='name')"
      ]
     },
     "execution_count": 68,
     "metadata": {},
     "output_type": "execute_result"
    }
   ],
   "source": [
    "network.madd('Generator', \n",
    "      gen_pv['bus'],\n",
    "      suffix='_PV',\n",
    "      bus=gen_pv['bus'].to_list(), \n",
    "      p_nom_extendable=False, \n",
    "      p_nom=gen_pv['p_nom'].to_list(),\n",
    "      carrier='PV', \n",
    "      marginal_cost=gen_pv['marginal_cost'].to_list(), \n",
    "      p_max_pu=pv)\n",
    "\n",
    "network.madd('Generator', \n",
    "      gen_wind['bus'],\n",
    "      suffix='_Wind',\n",
    "      bus=gen_wind['bus'].to_list(), \n",
    "      p_nom_extendable=False, \n",
    "      p_nom=gen_wind['p_nom'].to_list(), \n",
    "      carrier='Wind', \n",
    "      marginal_cost=gen_wind['marginal_cost'].to_list(), \n",
    "      p_max_pu=wind)\n",
    "\n",
    "network.madd('Generator', \n",
    "      gen_wind_offshore['bus'],\n",
    "      suffix='_Wind_offshore',\n",
    "      bus=gen_wind_offshore['bus'].to_list(), \n",
    "      p_nom_extendable=False, \n",
    "      p_nom=gen_wind_offshore['p_nom'].to_list(), \n",
    "      carrier='Wind offshore', \n",
    "      marginal_cost=gen_wind_offshore['marginal_cost'].to_list(), \n",
    "      p_max_pu=wind_offshore)\n",
    "\n",
    "if add_gas_ramping:\n",
    "    network.madd('Generator', \n",
    "          gen_gas.index,\n",
    "          bus=gen_gas['bus'].to_list(), \n",
    "          p_nom_extendable=gas_expansion, \n",
    "          p_nom=gen_gas['p_nom'].to_list(), \n",
    "          carrier=gen_gas['carrier'].to_list(), \n",
    "          marginal_cost=gen_gas['marginal_cost'].to_list(),\n",
    "          efficiency=gen_gas['efficiency'].to_list(),\n",
    "          ramp_limit_up = gen_gas['ramp_limit_up'].to_list(),\n",
    "          ramp_limit_down = gen_gas['ramp_limit_down'].to_list()\n",
    "          )\n",
    "else:\n",
    "    network.madd('Generator', \n",
    "          gen_gas.index,\n",
    "          bus=gen_gas['bus'].to_list(), \n",
    "          p_nom_extendable=gas_expansion, \n",
    "          p_nom=gen_gas['p_nom'].to_list(), \n",
    "          carrier=gen_gas['carrier'].to_list(), \n",
    "          marginal_cost=gen_gas['marginal_cost'].to_list(),\n",
    "          efficiency=gen_gas['efficiency'].to_list()\n",
    "          )\n",
    "\n",
    "network.madd('Generator', \n",
    "      gen_oil.index,\n",
    "      bus=gen_oil['bus'].to_list(), \n",
    "      p_nom_extendable=False, \n",
    "      p_nom=gen_oil['p_nom'].to_list(), \n",
    "      carrier='Oil', \n",
    "      marginal_cost=gen_oil['marginal_cost'].to_list(),\n",
    "      efficiency=gen_oil['efficiency'].to_list()\n",
    "      )\n",
    "\n",
    "network.madd('Generator', \n",
    "      gen_coal.index,\n",
    "      bus=gen_coal['bus'].to_list(), \n",
    "      p_nom_extendable=False, \n",
    "      p_nom=gen_coal['p_nom'].to_list(), \n",
    "      carrier=gen_coal['carrier'].to_list(), \n",
    "      marginal_cost=gen_coal['marginal_cost'].to_list(),\n",
    "      efficiency=gen_coal['efficiency'].to_list()\n",
    "      )\n",
    "\n",
    "network.madd('Generator', \n",
    "      gen_nuclear.index,\n",
    "      bus=gen_nuclear['bus'].to_list(), \n",
    "      p_nom_extendable=False, \n",
    "      p_nom=gen_nuclear['p_nom'].to_list(), \n",
    "      carrier='Nuclear', \n",
    "      marginal_cost=gen_nuclear['marginal_cost'].to_list(),\n",
    "      efficiency=gen_nuclear['efficiency'].to_list(),\n",
    "      p_max_pu=gen_nuclear['p_max_pu'].to_list(),\n",
    "      p_min_pu=gen_nuclear['p_min_pu'].to_list()\n",
    "      )\n",
    "\n",
    "network.madd('Generator', \n",
    "      gen_biomass.index,\n",
    "      bus=gen_biomass['bus'].to_list(), \n",
    "      p_nom_extendable=False, \n",
    "      p_nom=gen_biomass['p_nom'].to_list(), \n",
    "      carrier=gen_biomass['carrier'].to_list(), \n",
    "      marginal_cost=gen_biomass['marginal_cost'].to_list(),\n",
    "      efficiency=gen_biomass['efficiency'].to_list(),\n",
    "      p_max_pu=gen_biomass['p_max_pu'].to_list()\n",
    "      )\n",
    "\n",
    "network.madd('Generator', \n",
    "      gen_biogas['bus'],\n",
    "      suffix='_Biogas',\n",
    "      bus=gen_biogas['bus'].to_list(), \n",
    "      p_nom_extendable=False, \n",
    "      p_nom=gen_biogas['p_nom'].to_list(), \n",
    "      carrier='Biogas', \n",
    "      marginal_cost=gen_biogas['marginal_cost'].to_list(),\n",
    "      efficiency=gen_biogas['efficiency'].to_list(),\n",
    "      p_max_pu=gen_biogas['p_max_pu'].to_list()\n",
    "      )\n",
    "\n",
    "network.madd('Generator', \n",
    "       gen_ror.index,\n",
    "       bus=gen_ror['bus'].to_list(), \n",
    "       p_nom_extendable=False, \n",
    "       p_nom=gen_ror['p_nom'].to_list(), \n",
    "       carrier=gen_ror['carrier'].to_list(),\n",
    "       marginal_cost=gen_ror['marginal_cost'].to_list(),\n",
    "       p_max_pu=ror\n",
    "       )\n",
    "\n",
    "network.madd('Generator', \n",
    "       gen_reservoir.index,\n",
    "       bus=gen_reservoir['bus'].to_list(), \n",
    "       p_nom_extendable=False, \n",
    "       p_nom=gen_reservoir['p_nom'].to_list(), \n",
    "       carrier=gen_reservoir['carrier'].to_list(),\n",
    "       marginal_cost=gen_reservoir['marginal_cost'].to_list(),\n",
    "       p_max_pu=inflow\n",
    "       )\n",
    "\n",
    "network.madd('Generator', \n",
    "      gen_other_res['bus'],\n",
    "      suffix='_OtherRES',\n",
    "      bus=gen_other_res['bus'].to_list(), \n",
    "      p_nom_extendable=False, \n",
    "      p_nom=gen_other_res['p_nom'].to_list(), \n",
    "      carrier='Other RES', \n",
    "      marginal_cost=gen_other_res['marginal_cost'].to_list(),\n",
    "      p_max_pu=gen_other_res['p_max_pu'].to_list()\n",
    "      )\n",
    "\n",
    "network.madd('Generator', \n",
    "      gen_dsr['bus'],\n",
    "      suffix='_DSR',\n",
    "      bus=gen_dsr['bus'].to_list(), \n",
    "      p_nom_extendable=False, \n",
    "      p_nom=50000,#gen_dsr['p_nom'].to_list(), \n",
    "      carrier='DSR', \n",
    "      marginal_cost=gen_dsr['marginal_cost'].to_list(),\n",
    "      p_max_pu=gen_dsr['p_max_pu'].to_list()\n",
    "      )\n",
    "\n",
    "network.madd('Generator', \n",
    "      gen_gas_chp.index,\n",
    "      bus=gen_gas_chp['bus'].to_list(), \n",
    "      p_nom_extendable=False, \n",
    "      p_nom=gen_gas_chp['p_nom'].to_list(), \n",
    "      carrier=gen_gas_chp['carrier'].to_list(), \n",
    "      marginal_cost=gen_gas_chp['marginal_cost'].to_list(),\n",
    "      p_max_pu=1.32*gas_chp_timeseries,\n",
    "      p_min_pu=gas_chp_timeseries,\n",
    "      efficiency=gen_gas_chp['efficiency'].to_list()\n",
    "      )\n",
    "\n",
    "network.madd('Generator', \n",
    "      gen_coal_chp.index,\n",
    "      bus=gen_coal_chp['bus'].to_list(), \n",
    "      p_nom_extendable=False, \n",
    "      p_nom=gen_coal_chp['p_nom'].to_list(), \n",
    "      carrier=gen_coal_chp['carrier'].to_list(), \n",
    "      marginal_cost=gen_coal_chp['marginal_cost'].to_list(),\n",
    "      p_max_pu=coal_chp_timeseries,\n",
    "      p_min_pu=0.9*coal_chp_timeseries,\n",
    "      efficiency=gen_coal_chp['efficiency'].to_list()\n",
    "      )\n",
    "\n",
    "network.madd('Generator', \n",
    "      gen_oil_chp.index,\n",
    "      bus=gen_oil_chp['bus'].to_list(), \n",
    "      p_nom_extendable=False, \n",
    "      p_nom=gen_oil_chp['p_nom'].to_list(), \n",
    "      carrier=gen_oil_chp['carrier'].to_list(), \n",
    "      marginal_cost=gen_oil_chp['marginal_cost'].to_list(),\n",
    "      p_max_pu=1.32*oil_chp_timeseries,\n",
    "      p_min_pu=oil_chp_timeseries,\n",
    "      efficiency=gen_oil_chp['efficiency'].to_list()\n",
    "      )\n",
    "\n",
    "network.madd('Generator', \n",
    "      gen_res_chp.index,\n",
    "      bus=gen_res_chp['bus'].to_list(), \n",
    "      p_nom_extendable=False, \n",
    "      p_nom=gen_res_chp['p_nom'].to_list(), \n",
    "      carrier=gen_res_chp['carrier'].to_list(), \n",
    "      marginal_cost=gen_res_chp['marginal_cost'].to_list(),\n",
    "      p_max_pu=1.32*res_chp_timeseries,\n",
    "      p_min_pu=res_chp_timeseries,\n",
    "      efficiency=gen_res_chp['efficiency'].to_list()\n",
    "      )\n",
    "\n",
    "network.madd('Generator', \n",
    "      gen_bio_chp.index,\n",
    "      bus=gen_bio_chp['bus'].to_list(), \n",
    "      p_nom_extendable=False, \n",
    "      p_nom=gen_bio_chp['p_nom'].to_list(), \n",
    "      carrier=gen_bio_chp['carrier'].to_list(), \n",
    "      marginal_cost=gen_bio_chp['marginal_cost'].to_list(),\n",
    "      p_max_pu=chp_bio,\n",
    "      p_min_pu=chp_bio*0.9,\n",
    "      efficiency=gen_bio_chp['efficiency'].to_list()\n",
    "      )\n",
    "\n",
    "network.madd(\"StorageUnit\", st_hps.index, bus=st_hps['bus'].tolist(), carrier=st_hps['carrier'].tolist(),\n",
    "             p_nom=st_hps['p_nom'].tolist(), p_nom_extendable=False, max_hours=st_hps['max_hours'].to_list(),\n",
    "             p_max_pu=st_hps['p_max_pu'].tolist(),\n",
    "             efficiency_dispatch=st_hps['efficiency_dispatch'].tolist(),\n",
    "             standing_loss=st_hps['standing_loss'].tolist())\n",
    "            \n",
    "network.madd(\"StorageUnit\", st_battery.index, bus=st_battery['bus'].tolist(), carrier=st_battery['carrier'].tolist(),\n",
    "             p_nom=st_battery['p_nom'].tolist(), p_nom_extendable=False, max_hours=st_battery['max_hours'].to_list(),\n",
    "             p_max_pu=st_battery['p_max_pu'].tolist(),\n",
    "             efficiency_dispatch=st_battery['efficiency_dispatch'].tolist(),\n",
    "             standing_loss=st_battery['standing_loss'].tolist())\n",
    "\n",
    "network.madd(\"StorageUnit\", st_other.index, bus=st_other['bus'].tolist(), carrier=st_other['carrier'].tolist(),\n",
    "             p_nom=st_other['p_nom'].tolist(), p_nom_extendable=False, max_hours=st_other['max_hours'].to_list(),\n",
    "             p_max_pu=st_other['p_max_pu'].tolist(),\n",
    "             efficiency_dispatch=st_other['efficiency_dispatch'].tolist(),\n",
    "             standing_loss=st_other['standing_loss'].tolist())\n",
    "\n",
    "network.madd(\"Link\", links_electrolysis.index,\n",
    "             bus0=links_electrolysis['bus0'].tolist(), bus1= links_electrolysis['bus1'].tolist(),\n",
    "             p_nom=links_electrolysis['p_nom'].tolist(), p_nom_extendable=links_electrolysis['p_nom_extendable'].tolist(), carrier=links_electrolysis['carrier'].tolist(), \n",
    "             efficiency=links_electrolysis['efficiency'].tolist())\n",
    "\n",
    "network.madd(\"Store\", st_hydrogen.index, bus=st_hydrogen['bus'].tolist(), carrier=st_hydrogen['carrier'].tolist(),\n",
    "             e_nom=st_hydrogen['e_nom'].tolist(), e_nom_extendable=False, e_cyclic=True)"
   ]
  },
  {
   "cell_type": "code",
   "execution_count": 69,
   "metadata": {},
   "outputs": [
    {
     "name": "stderr",
     "output_type": "stream",
     "text": [
      "C:\\Users\\harri\\Anaconda3\\envs\\pypsa-310\\lib\\site-packages\\numpy\\core\\numeric.py:407: RuntimeWarning: invalid value encountered in cast\n",
      "  multiarray.copyto(res, fill_value, casting='unsafe')\n",
      "C:\\Users\\harri\\Anaconda3\\envs\\pypsa-310\\lib\\site-packages\\numpy\\core\\numeric.py:407: RuntimeWarning: invalid value encountered in cast\n",
      "  multiarray.copyto(res, fill_value, casting='unsafe')\n",
      "C:\\Users\\harri\\Anaconda3\\envs\\pypsa-310\\lib\\site-packages\\numpy\\core\\numeric.py:407: RuntimeWarning: invalid value encountered in cast\n",
      "  multiarray.copyto(res, fill_value, casting='unsafe')\n",
      "C:\\Users\\harri\\Anaconda3\\envs\\pypsa-310\\lib\\site-packages\\numpy\\core\\numeric.py:407: RuntimeWarning: invalid value encountered in cast\n",
      "  multiarray.copyto(res, fill_value, casting='unsafe')\n",
      "INFO:linopy.model: Solve linear problem using Highs solver\n",
      "INFO:linopy.io:Writing objective.\n",
      "Writing constraints.: 100%|████████████████████████████████████████████████████████████| 21/21 [06:32<00:00, 18.71s/it]\n",
      "Writing variables.: 100%|██████████████████████████████████████████████████████████████| 10/10 [00:50<00:00,  5.01s/it]\n",
      "INFO:linopy.io: Writing time: 471.95s\n",
      "INFO:linopy.solvers:Log file at C:\\Users\\harri\\AppData\\Local\\Temp\\highs.log.\n",
      "INFO:linopy.constants: Optimization successful: \n",
      "Status: ok\n",
      "Termination condition: optimal\n",
      "Solution: 20533457 primals, 42240737 duals\n",
      "Objective: 6.99e+10\n",
      "Solver model: available\n",
      "Solver message: optimal\n",
      "\n"
     ]
    },
    {
     "data": {
      "text/plain": [
       "('ok', 'optimal')"
      ]
     },
     "execution_count": 69,
     "metadata": {},
     "output_type": "execute_result"
    }
   ],
   "source": [
    "network.optimize(solver_name='highs')"
   ]
  },
  {
   "cell_type": "code",
   "execution_count": 70,
   "metadata": {},
   "outputs": [
    {
     "data": {
      "text/plain": [
       "carrier\n",
       "BECCS              0.000000\n",
       "Biogas           105.355225\n",
       "Biomass          140.038628\n",
       "CBF                0.299058\n",
       "DSR                0.574813\n",
       "Gas              373.922758\n",
       "Hard coal         45.460797\n",
       "Hydro            296.123234\n",
       "Lignite           24.695261\n",
       "Nuclear          679.374628\n",
       "Oil               28.583925\n",
       "Other RES         69.600183\n",
       "PV               724.422261\n",
       "Wind             873.714654\n",
       "Wind offshore    481.822939\n",
       "dtype: float64"
      ]
     },
     "execution_count": 70,
     "metadata": {},
     "output_type": "execute_result"
    }
   ],
   "source": [
    "p_by_carrier = network.generators_t.p.groupby(network.generators.carrier, axis=1).sum()\n",
    "generation_by_fuel_yearly = p_by_carrier.sum()/1000000\n",
    "generation_by_fuel_yearly"
   ]
  },
  {
   "cell_type": "code",
   "execution_count": 71,
   "metadata": {},
   "outputs": [],
   "source": [
    "prices = network.buses_t.marginal_price\n",
    "prices.to_csv('prices.csv')"
   ]
  },
  {
   "cell_type": "code",
   "execution_count": 72,
   "metadata": {},
   "outputs": [],
   "source": [
    "p_by_carrier = network.generators_t.p.groupby([network.generators.carrier, network.generators.bus], axis=1).sum()\n",
    "generation_by_fuel_by_country = p_by_carrier.sum()/1000000\n",
    "generation_by_fuel_by_country.to_csv('generation_by_fuel_by_country.csv')"
   ]
  },
  {
   "cell_type": "code",
   "execution_count": 73,
   "metadata": {},
   "outputs": [],
   "source": [
    "p_by_unit = network.generators_t.p.sum()/1000000\n",
    "generation_by_unit = p_by_unit\n",
    "generation_by_unit.to_csv('generation_by_unit.csv')"
   ]
  },
  {
   "cell_type": "code",
   "execution_count": 74,
   "metadata": {},
   "outputs": [],
   "source": [
    "generation_by_link = network.links_t.p0.sum()/1000000\n",
    "country_from = ['UK' if c == 'EN' else 'UK' if c == 'Sc' else 'UK' if c == 'No' else c for c in generation_by_link.index.str[5:7]]\n",
    "country_to = ['UK' if c.islower() else c for c in generation_by_link.index.str[-2:]]\n",
    "generation_by_link = generation_by_link.to_frame(name='TWh')\n",
    "generation_by_link['from'] = country_from\n",
    "generation_by_link['to'] = country_to\n",
    "generation_by_link.to_csv('generation_by_link.csv')"
   ]
  },
  {
   "cell_type": "code",
   "execution_count": 75,
   "metadata": {},
   "outputs": [],
   "source": [
    "generation_by_link = network.links_t.p0\n",
    "generation_by_link.to_csv('generation_by_link_hourly.csv')"
   ]
  },
  {
   "cell_type": "code",
   "execution_count": 76,
   "metadata": {},
   "outputs": [],
   "source": [
    "generation_by_line = network.lines_t.p0.sum()/1000000\n",
    "generation_by_line.to_csv('generation_by_line.csv')"
   ]
  },
  {
   "cell_type": "code",
   "execution_count": 77,
   "metadata": {},
   "outputs": [],
   "source": [
    "original_line_capacity = network.lines.s_nom\n",
    "optimized_line_capacity = network.lines.s_nom_opt\n",
    "optimized_line_capacity.to_csv('line_s_nom_opt.csv')"
   ]
  },
  {
   "cell_type": "code",
   "execution_count": 78,
   "metadata": {},
   "outputs": [
    {
     "data": {
      "text/plain": [
       "carrier\n",
       "BECCS                           0.0%\n",
       "Biogas                         2.74%\n",
       "Biomass                        3.64%\n",
       "DSR                            0.01%\n",
       "Gas                            9.73%\n",
       "Hard coal                      1.18%\n",
       "Hydro                           7.7%\n",
       "Lignite                        0.64%\n",
       "Nuclear                       17.68%\n",
       "Oil                            0.74%\n",
       "Other RES                      1.81%\n",
       "PV                            18.85%\n",
       "Wind                          22.73%\n",
       "Wind offshore    12.540000000000001%\n",
       "dtype: object"
      ]
     },
     "execution_count": 78,
     "metadata": {},
     "output_type": "execute_result"
    }
   ],
   "source": [
    "domestic_generation_by_fuel_yearly = generation_by_fuel_yearly\n",
    "domestic_generation_by_fuel_yearly=domestic_generation_by_fuel_yearly.drop('CBF')\n",
    "generation_by_fuel_yearly_percentage = domestic_generation_by_fuel_yearly.div(domestic_generation_by_fuel_yearly.sum(), axis=0)\n",
    "generation_by_fuel_yearly_percentage = generation_by_fuel_yearly_percentage.round(4)\n",
    "generation_by_fuel_yearly_percentage = (generation_by_fuel_yearly_percentage * 100).astype(str) + '%'\n",
    "generation_by_fuel_yearly_percentage"
   ]
  },
  {
   "cell_type": "code",
   "execution_count": 79,
   "metadata": {},
   "outputs": [
    {
     "data": {
      "text/plain": [
       "carrier\n",
       "BECCS            0.000000e+00\n",
       "Biogas           1.374849e+04\n",
       "Biomass          2.089929e+04\n",
       "CBF              2.000000e+05\n",
       "DSR              1.800000e+06\n",
       "Gas              2.114838e+05\n",
       "Hard coal        3.516500e+04\n",
       "Hydro            1.105667e+05\n",
       "Lignite          2.374300e+04\n",
       "Nuclear          9.572400e+04\n",
       "Oil              2.784170e+04\n",
       "Other RES        1.852238e+04\n",
       "PV               6.385830e+05\n",
       "Wind             3.926902e+05\n",
       "Wind offshore    1.343640e+05\n",
       "Name: p_nom, dtype: float64"
      ]
     },
     "execution_count": 79,
     "metadata": {},
     "output_type": "execute_result"
    }
   ],
   "source": [
    "capacity_by_fuel = network.generators.groupby(\"carrier\")[\"p_nom\"].sum()\n",
    "capacity_by_fuel"
   ]
  },
  {
   "cell_type": "code",
   "execution_count": 80,
   "metadata": {},
   "outputs": [],
   "source": [
    "buses_UK = list(set([b for b in network.generators.bus.to_list() if 'EN_' in b])) + ['NorthernIreland', 'Scotland']\n",
    "generation_hourly_uk_by_fuel = p_by_carrier.iloc[:, p_by_carrier.columns.get_level_values(1).isin(buses_UK)].groupby(['carrier'], axis=1).sum()/1000000\n",
    "generation_hourly_uk_by_fuel.to_csv(\"generation_hourly_uk_by_fuel.csv\")"
   ]
  },
  {
   "cell_type": "code",
   "execution_count": 81,
   "metadata": {},
   "outputs": [
    {
     "data": {
      "text/plain": [
       "carrier\n",
       "Battery          99449.000001\n",
       "HPS              56455.000000\n",
       "Other storage      512.383140\n",
       "Name: p_nom, dtype: float64"
      ]
     },
     "execution_count": 81,
     "metadata": {},
     "output_type": "execute_result"
    }
   ],
   "source": [
    "storage_capacity = network.storage_units.groupby(\"carrier\")[\"p_nom\"].sum()\n",
    "storage_capacity"
   ]
  },
  {
   "cell_type": "code",
   "execution_count": 82,
   "metadata": {},
   "outputs": [
    {
     "data": {
      "text/plain": [
       "122.19000865302141"
      ]
     },
     "execution_count": 82,
     "metadata": {},
     "output_type": "execute_result"
    }
   ],
   "source": [
    "generation_carriers = pd.merge(network.generators, network.carriers, left_on=\"carrier\", right_index=True)\n",
    "emissions = network.generators_t.p * generation_carriers[\"co2_emissions\"] / generation_carriers[\"efficiency\"]\n",
    "\n",
    "(emissions.sum().sum()*1000000000000/1000000)/(generation_by_fuel_yearly.sum()*1000000000)"
   ]
  },
  {
   "cell_type": "code",
   "execution_count": 83,
   "metadata": {},
   "outputs": [
    {
     "data": {
      "text/plain": [
       "469.6969714244078"
      ]
     },
     "execution_count": 83,
     "metadata": {},
     "output_type": "execute_result"
    }
   ],
   "source": [
    "emissions.sum().sum()/1000000"
   ]
  },
  {
   "cell_type": "code",
   "execution_count": 84,
   "metadata": {},
   "outputs": [],
   "source": [
    "output = network.stores_t.p\n",
    "state_of_charge = network.stores_t.e\n",
    "output.to_csv('store_output.csv')\n",
    "state_of_charge.to_csv('store_state_of_charge.csv')"
   ]
  }
 ],
 "metadata": {
  "kernelspec": {
   "display_name": "pypsa-310",
   "language": "python",
   "name": "pypsa-310"
  },
  "language_info": {
   "codemirror_mode": {
    "name": "ipython",
    "version": 3
   },
   "file_extension": ".py",
   "mimetype": "text/x-python",
   "name": "python",
   "nbconvert_exporter": "python",
   "pygments_lexer": "ipython3",
   "version": "3.10.9"
  },
  "vscode": {
   "interpreter": {
    "hash": "c17fc206160ce04fb92bd438260435e69a12981659536eb17447339967eb38b5"
   }
  }
 },
 "nbformat": 4,
 "nbformat_minor": 2
}
