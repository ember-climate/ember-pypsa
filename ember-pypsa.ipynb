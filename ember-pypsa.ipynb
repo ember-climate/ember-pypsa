{
 "cells": [
  {
   "cell_type": "code",
   "execution_count": 1,
   "metadata": {},
   "outputs": [],
   "source": [
    "import numpy as np\n",
    "import pandas as pd\n",
    "import pypsa\n",
    "import highspy \n",
    "\n",
    "%matplotlib inline"
   ]
  },
  {
   "cell_type": "code",
   "execution_count": 2,
   "metadata": {},
   "outputs": [],
   "source": [
    "DATA_FILE = 'pypsa-eu-uk-2030.xlsx'"
   ]
  },
  {
   "cell_type": "code",
   "execution_count": 3,
   "metadata": {},
   "outputs": [
    {
     "name": "stderr",
     "output_type": "stream",
     "text": [
      "C:\\Users\\Pawel\\AppData\\Local\\Temp\\ipykernel_14288\\3741320993.py:13: FutureWarning:\n",
      "\n",
      "Defining usecols with out of bounds indices is deprecated and will raise a ParserError in a future version.\n",
      "\n"
     ]
    }
   ],
   "source": [
    "load = pd.read_excel(DATA_FILE, sheet_name='load', parse_dates=['t'], index_col='t',usecols='A:AK').dropna(axis=1, how='all').dropna()\n",
    "load_hydrogen = pd.read_excel(DATA_FILE, sheet_name='load_hydrogen', parse_dates=['t'], index_col='t',usecols='A:AK').dropna(axis=1, how='all').dropna()\n",
    "pv = pd.read_excel(DATA_FILE, sheet_name='pv', parse_dates=['t'], index_col='t',usecols='A:AK').dropna(axis=1, how='all').dropna()\n",
    "wind = pd.read_excel(DATA_FILE, sheet_name='wind', parse_dates=['t'], index_col='t',usecols='A:AK').dropna(axis=1, how='all').dropna()\n",
    "wind_offshore = pd.read_excel(DATA_FILE, sheet_name='wind_offshore', parse_dates=['t'], index_col='t',usecols='A:AK').dropna(axis=1, how='all').dropna()\n",
    "ror = pd.read_excel(DATA_FILE, sheet_name='ror', parse_dates=['t'], index_col='t',usecols='A:AK').dropna(axis=1, how='all').dropna()\n",
    "inflow = pd.read_excel(DATA_FILE, sheet_name='inflow', parse_dates=['t'], index_col='t',usecols='A:AK').dropna(axis=1, how='all').dropna()\n",
    "chp = pd.read_excel(DATA_FILE, sheet_name='chp', parse_dates=['t'], index_col='t').dropna(axis=1, how='all').dropna()\n",
    "chp_bio = pd.read_excel(DATA_FILE, sheet_name='chp_bio', parse_dates=['t'], index_col='t').dropna(axis=1, how='all').dropna()\n",
    "\n",
    "buses = pd.read_excel(DATA_FILE, sheet_name='buses', index_col=0, usecols='A:G')\n",
    "cbf_buses = pd.read_excel(DATA_FILE, sheet_name='cbf_buses', index_col=0, usecols='A:F')\n",
    "buses_hydrogen = pd.read_excel(DATA_FILE, sheet_name='buses_hydrogen', index_col=0, usecols='A:D')\n",
    "lines = pd.read_excel(DATA_FILE, sheet_name='lines', index_col='name').dropna(axis=1, how='all').dropna()\n",
    "links = pd.read_excel(DATA_FILE, sheet_name='links', index_col=0, usecols='A:G').dropna(axis=1, how='all').dropna()\n",
    "links_electrolysis = pd.read_excel(DATA_FILE, sheet_name='links_electrolysis', index_col=0, usecols='A:I').dropna(axis=1, how='all').dropna()\n",
    "gen_pv = pd.read_excel(DATA_FILE, sheet_name='gen_pv', index_col=0, usecols='A:E')\n",
    "gen_wind = pd.read_excel(DATA_FILE, sheet_name='gen_wind', index_col=0, usecols='A:E')\n",
    "gen_wind_offshore = pd.read_excel(DATA_FILE, sheet_name='gen_wind_offshore', index_col=0, usecols='A:E')\n",
    "gen_gas = pd.read_excel(DATA_FILE, sheet_name='gen_gas', index_col=0, usecols='A:L')\n",
    "gen_oil = pd.read_excel(DATA_FILE, sheet_name='gen_oil', index_col=0, usecols='A:J')\n",
    "gen_coal = pd.read_excel(DATA_FILE, sheet_name='gen_coal', index_col=0,usecols='A:J')\n",
    "gen_nuclear = pd.read_excel(DATA_FILE, sheet_name='gen_nuclear', index_col=0, usecols='A:I')\n",
    "gen_biomass = pd.read_excel(DATA_FILE, sheet_name='gen_biomass', index_col=0, usecols='A:G')\n",
    "gen_biogas = pd.read_excel(DATA_FILE, sheet_name='gen_biogas', index_col=0, usecols='A:G')\n",
    "gen_ror = pd.read_excel(DATA_FILE, sheet_name='gen_ror', index_col=0, usecols='A:E')\n",
    "gen_reservoir = pd.read_excel(DATA_FILE, sheet_name='gen_reservoir', index_col=0, usecols='A:E')\n",
    "gen_other_res = pd.read_excel(DATA_FILE, sheet_name='gen_other_res', index_col=0, usecols='A:F')\n",
    "gen_dsr = pd.read_excel(DATA_FILE, sheet_name='gen_dsr', index_col=0, usecols='A:F')\n",
    "gen_gas_chp = pd.read_excel(DATA_FILE, sheet_name='gen_gas_chp', index_col=0, usecols='A:R')\n",
    "gen_coal_chp = pd.read_excel(DATA_FILE, sheet_name='gen_coal_chp', index_col=0, usecols='A:J')\n",
    "gen_oil_chp = pd.read_excel(DATA_FILE, sheet_name='gen_oil_chp', index_col=0, usecols='A:G')\n",
    "gen_res_chp = pd.read_excel(DATA_FILE, sheet_name='gen_res_chp', index_col=0, usecols='A:G')\n",
    "gen_bio_chp = pd.read_excel(DATA_FILE, sheet_name='gen_bio_chp', index_col=0, usecols='A:G')\n",
    "gen_cbf = pd.read_excel(DATA_FILE, sheet_name='gen_cbf', index_col=0, usecols='A:E')\n",
    "st_hps = pd.read_excel(DATA_FILE, sheet_name='st_hps', index_col=0, usecols='A:I')\n",
    "st_battery = pd.read_excel(DATA_FILE, sheet_name='st_battery', index_col=0, usecols='A:I')\n",
    "st_hydrogen = pd.read_excel(DATA_FILE, sheet_name='st_hydrogen', index_col=0, usecols='A:D')\n",
    "st_other = pd.read_excel(DATA_FILE, sheet_name='st_other', index_col=0, usecols='A:I')"
   ]
  },
  {
   "cell_type": "code",
   "execution_count": 18,
   "metadata": {},
   "outputs": [],
   "source": [
    "gen_gas = gen_gas[gen_gas['status']=='operating']\n",
    "gen_gas_chp = gen_gas_chp[gen_gas_chp['status']=='operating']"
   ]
  },
  {
   "cell_type": "code",
   "execution_count": 4,
   "metadata": {},
   "outputs": [],
   "source": [
    "gas_chp_timeseries=pd.DataFrame(chp,columns=gen_gas_chp.index)\n",
    "coal_chp_timeseries=pd.DataFrame(chp,columns=gen_coal_chp.index)\n",
    "oil_chp_timeseries=pd.DataFrame(chp,columns=gen_oil_chp.index)\n",
    "res_chp_timeseries=pd.DataFrame(chp,columns=gen_res_chp.index)\n",
    "\n",
    "for col in gas_chp_timeseries.columns:\n",
    "    gas_chp_timeseries[col].values[:] = chp['chp']\n",
    "\n",
    "for col in coal_chp_timeseries.columns:\n",
    "    coal_chp_timeseries[col].values[:] = chp['chp']\n",
    "\n",
    "for col in oil_chp_timeseries.columns:\n",
    "    oil_chp_timeseries[col].values[:] = chp['chp']\n",
    "\n",
    "for col in res_chp_timeseries.columns:\n",
    "    res_chp_timeseries[col].values[:] = chp['chp']\n",
    "  "
   ]
  },
  {
   "cell_type": "code",
   "execution_count": 17,
   "metadata": {},
   "outputs": [
    {
     "data": {
      "text/plain": [
       "Index(['EN_NorthEast_H2', 'EN_NorthWest_H2', 'EN_Yorkshire_H2',\n",
       "       'EN_EastMidlands_H2', 'EN_WestMidlands_H2', 'EN_East_H2',\n",
       "       'EN_London_H2', 'EN_SouthEast_H2', 'EN_SouthWest_H2', 'EN_Wales_H2',\n",
       "       'Scotland_H2', 'NorthernIreland_H2', 'Austria_H2', 'Belgium_H2',\n",
       "       'Bulgaria_H2', 'Croatia_H2', 'Czechia_H2', 'Denmark_H2', 'Estonia_H2',\n",
       "       'Finland_H2', 'France_H2', 'Germany_H2', 'Greece_H2', 'Hungary_H2',\n",
       "       'Ireland_H2', 'Italy_H2', 'Latvia_H2', 'Lithuania_H2', 'Netherlands_H2',\n",
       "       'Poland_H2', 'Portugal_H2', 'Romania_H2', 'Slovakia_H2', 'Slovenia_H2',\n",
       "       'Spain_H2', 'Sweden_H2'],\n",
       "      dtype='object')"
      ]
     },
     "execution_count": 17,
     "metadata": {},
     "output_type": "execute_result"
    }
   ],
   "source": [
    "network = pypsa.Network()\n",
    "network.set_snapshots(load.index)\n",
    "\n",
    "network.import_components_from_dataframe(buses, 'Bus')\n",
    "network.import_components_from_dataframe(cbf_buses, 'Bus')\n",
    "network.import_components_from_dataframe(buses_hydrogen, 'Bus')\n",
    "\n",
    "network.import_components_from_dataframe(lines, 'Line')\n",
    "network.lines['s_nom_extendable'] = True  \n",
    "\n",
    "network.madd(\"Link\", links.index,\n",
    "             bus0=links['bus0'].tolist(), bus1= links['bus1'].tolist(),\n",
    "             p_nom=links['p_nom'].tolist())\n",
    "\n",
    "network.madd(\"Generator\", gen_cbf.index, suffix='_CBF', carrier='CBF',\n",
    "             bus=gen_cbf.index.tolist(), p_nom=gen_cbf['p_nom'].to_list(), p_nom_extendable=False, \n",
    "             marginal_cost=gen_cbf['marginal_cost'].to_list())\n",
    "\n",
    "dict_carriers = {\n",
    "    'Lignite': 0.334, 'Hard coal': 0.354, 'Gas': 0.187, 'Gas CCS': 0, 'Oil': 0.334, 'Hydrogen': 0, 'Biomass': 0.403, 'Biogas': 0.178, 'BECCS': 0,\n",
    "    'Geothermal': 0.026, 'Wind': 0, 'Wind offshore': 0, 'PV': 0, 'HPS': 0, 'Hydro': 0, 'Other RES': 0, 'CBF': 0, 'VOLL': 0, 'Battery': 0, 'Other storage' : 0, 'Nuclear': 0, 'Electrolysis':0, 'Hydrogen storage':0, 'Hydrogen for power':0\n",
    "}\n",
    "\n",
    "for carrier in dict_carriers:\n",
    "    network.add(\"Carrier\", name=carrier, co2_emissions=dict_carriers[carrier])\n",
    "\n",
    "network.madd(\"Load\", load.columns, bus=load.columns, p_set=load)\n",
    "network.madd(\"Load\", load_hydrogen.columns, bus=load_hydrogen.columns, p_set=load_hydrogen, carrier='Hydrogen')"
   ]
  },
  {
   "cell_type": "code",
   "execution_count": 18,
   "metadata": {},
   "outputs": [
    {
     "data": {
      "text/plain": [
       "Index(['EN_NorthEast_H2_Storage', 'EN_NorthWest_H2_Storage',\n",
       "       'EN_Yorkshire_H2_Storage', 'EN_EastMidlands_H2_Storage',\n",
       "       'EN_WestMidlands_H2_Storage', 'EN_East_H2_Storage',\n",
       "       'EN_London_H2_Storage', 'EN_SouthEast_H2_Storage',\n",
       "       'EN_SouthWest_H2_Storage', 'EN_Wales_H2_Storage', 'Scotland_H2_Storage',\n",
       "       'NorthernIreland_H2_Storage', 'Austria_H2_Storage',\n",
       "       'Belgium_H2_Storage', 'Bulgaria_H2_Storage', 'Croatia_H2_Storage',\n",
       "       'Czechia_H2_Storage', 'Denmark_H2_Storage', 'Estonia_H2_Storage',\n",
       "       'Finland_H2_Storage', 'France_H2_Storage', 'Germany_H2_Storage',\n",
       "       'Greece_H2_Storage', 'Hungary_H2_Storage', 'Ireland_H2_Storage',\n",
       "       'Italy_H2_Storage', 'Latvia_H2_Storage', 'Lithuania_H2_Storage',\n",
       "       'Netherlands_H2_Storage', 'Poland_H2_Storage', 'Portugal_H2_Storage',\n",
       "       'Romania_H2_Storage', 'Slovakia_H2_Storage', 'Slovenia_H2_Storage',\n",
       "       'Spain_H2_Storage', 'Sweden_H2_Storage'],\n",
       "      dtype='object', name='name')"
      ]
     },
     "execution_count": 18,
     "metadata": {},
     "output_type": "execute_result"
    }
   ],
   "source": [
    "network.madd('Generator', \n",
    "      gen_pv['bus'],\n",
    "      suffix='_PV',\n",
    "      bus=gen_pv['bus'].to_list(), \n",
    "      p_nom_extendable=False, \n",
    "      p_nom=gen_pv['p_nom'].to_list(),\n",
    "      carrier='PV', \n",
    "      marginal_cost=gen_pv['marginal_cost'].to_list(), \n",
    "      p_max_pu=pv)\n",
    "\n",
    "network.madd('Generator', \n",
    "      gen_wind['bus'],\n",
    "      suffix='_Wind',\n",
    "      bus=gen_wind['bus'].to_list(), \n",
    "      p_nom_extendable=False, \n",
    "      p_nom=gen_wind['p_nom'].to_list(), \n",
    "      carrier='Wind', \n",
    "      marginal_cost=gen_wind['marginal_cost'].to_list(), \n",
    "      p_max_pu=wind)\n",
    "\n",
    "network.madd('Generator', \n",
    "      gen_wind_offshore['bus'],\n",
    "      suffix='_Wind_offshore',\n",
    "      bus=gen_wind_offshore['bus'].to_list(), \n",
    "      p_nom_extendable=False, \n",
    "      p_nom=gen_wind_offshore['p_nom'].to_list(), \n",
    "      carrier='Wind offshore', \n",
    "      marginal_cost=gen_wind_offshore['marginal_cost'].to_list(), \n",
    "      p_max_pu=wind_offshore)\n",
    "\n",
    "network.madd('Generator', \n",
    "      gen_gas.index,\n",
    "      bus=gen_gas['bus'].to_list(), \n",
    "      p_nom_extendable=False, \n",
    "      p_nom=gen_gas['p_nom'].to_list(), \n",
    "      carrier=gen_gas['carrier'].to_list(), \n",
    "      marginal_cost=gen_gas['marginal_cost'].to_list(),\n",
    "      efficiency=gen_gas['efficiency'].to_list()\n",
    "      )\n",
    "\n",
    "network.madd('Generator', \n",
    "      gen_oil.index,\n",
    "      bus=gen_oil['bus'].to_list(), \n",
    "      p_nom_extendable=False, \n",
    "      p_nom=gen_oil['p_nom'].to_list(), \n",
    "      carrier='Oil', \n",
    "      marginal_cost=gen_oil['marginal_cost'].to_list(),\n",
    "      efficiency=gen_oil['efficiency'].to_list()\n",
    "      )\n",
    "\n",
    "network.madd('Generator', \n",
    "      gen_coal.index,\n",
    "      bus=gen_coal['bus'].to_list(), \n",
    "      p_nom_extendable=False, \n",
    "      p_nom=gen_coal['p_nom'].to_list(), \n",
    "      carrier=gen_coal['carrier'].to_list(), \n",
    "      marginal_cost=gen_coal['marginal_cost'].to_list(),\n",
    "      efficiency=gen_coal['efficiency'].to_list()\n",
    "      )\n",
    "\n",
    "network.madd('Generator', \n",
    "      gen_nuclear.index,\n",
    "      bus=gen_nuclear['bus'].to_list(), \n",
    "      p_nom_extendable=False, \n",
    "      p_nom=gen_nuclear['p_nom'].to_list(), \n",
    "      carrier='Nuclear', \n",
    "      marginal_cost=gen_nuclear['marginal_cost'].to_list(),\n",
    "      efficiency=gen_nuclear['efficiency'].to_list(),\n",
    "      p_max_pu=gen_nuclear['p_max_pu'].to_list(),\n",
    "      p_min_pu=gen_nuclear['p_min_pu'].to_list()\n",
    "      )\n",
    "\n",
    "network.madd('Generator', \n",
    "      gen_biomass.index,\n",
    "      bus=gen_biomass['bus'].to_list(), \n",
    "      p_nom_extendable=False, \n",
    "      p_nom=gen_biomass['p_nom'].to_list(), \n",
    "      carrier=gen_biomass['carrier'].to_list(), \n",
    "      marginal_cost=gen_biomass['marginal_cost'].to_list(),\n",
    "      efficiency=gen_biomass['efficiency'].to_list(),\n",
    "      p_max_pu=gen_biomass['p_max_pu'].to_list()\n",
    "      )\n",
    "\n",
    "network.madd('Generator', \n",
    "      gen_biogas['bus'],\n",
    "      suffix='_Biogas',\n",
    "      bus=gen_biogas['bus'].to_list(), \n",
    "      p_nom_extendable=False, \n",
    "      p_nom=gen_biogas['p_nom'].to_list(), \n",
    "      carrier='Biogas', \n",
    "      marginal_cost=gen_biogas['marginal_cost'].to_list(),\n",
    "      efficiency=gen_biogas['efficiency'].to_list(),\n",
    "      p_max_pu=gen_biogas['p_max_pu'].to_list()\n",
    "      )\n",
    "\n",
    "network.madd('Generator', \n",
    "       gen_ror.index,\n",
    "       bus=gen_ror['bus'].to_list(), \n",
    "       p_nom_extendable=False, \n",
    "       p_nom=gen_ror['p_nom'].to_list(), \n",
    "       carrier=gen_ror['carrier'].to_list(),\n",
    "       marginal_cost=gen_ror['marginal_cost'].to_list(),\n",
    "       p_max_pu=ror\n",
    "       )\n",
    "\n",
    "network.madd('Generator', \n",
    "       gen_reservoir.index,\n",
    "       bus=gen_reservoir['bus'].to_list(), \n",
    "       p_nom_extendable=False, \n",
    "       p_nom=gen_reservoir['p_nom'].to_list(), \n",
    "       carrier=gen_reservoir['carrier'].to_list(),\n",
    "       marginal_cost=gen_reservoir['marginal_cost'].to_list(),\n",
    "       p_max_pu=inflow\n",
    "       )\n",
    "\n",
    "network.madd('Generator', \n",
    "      gen_other_res['bus'],\n",
    "      suffix='_OtherRES',\n",
    "      bus=gen_other_res['bus'].to_list(), \n",
    "      p_nom_extendable=False, \n",
    "      p_nom=gen_other_res['p_nom'].to_list(), \n",
    "      carrier='Other RES', \n",
    "      marginal_cost=gen_other_res['marginal_cost'].to_list(),\n",
    "      p_max_pu=gen_other_res['p_max_pu'].to_list()\n",
    "      )\n",
    "\n",
    "network.madd('Generator', \n",
    "      gen_dsr['bus'],\n",
    "      suffix='_DSR',\n",
    "      bus=gen_dsr['bus'].to_list(), \n",
    "      p_nom_extendable=False, \n",
    "      p_nom=50000,#gen_dsr['p_nom'].to_list(), \n",
    "      carrier='DSR', \n",
    "      marginal_cost=gen_dsr['marginal_cost'].to_list(),\n",
    "      p_max_pu=gen_dsr['p_max_pu'].to_list()\n",
    "      )\n",
    "\n",
    "network.madd('Generator', \n",
    "      gen_gas_chp.index,\n",
    "      bus=gen_gas_chp['bus'].to_list(), \n",
    "      p_nom_extendable=False, \n",
    "      p_nom=gen_gas_chp['p_nom'].to_list(), \n",
    "      carrier=gen_gas_chp['carrier'].to_list(), \n",
    "      marginal_cost=gen_gas_chp['marginal_cost'].to_list(),\n",
    "      p_max_pu=1.32*gas_chp_timeseries,\n",
    "      p_min_pu=gas_chp_timeseries,\n",
    "      efficiency=gen_gas_chp['efficiency'].to_list()\n",
    "      )\n",
    "\n",
    "network.madd('Generator', \n",
    "      gen_coal_chp.index,\n",
    "      bus=gen_coal_chp['bus'].to_list(), \n",
    "      p_nom_extendable=False, \n",
    "      p_nom=gen_coal_chp['p_nom'].to_list(), \n",
    "      carrier=gen_coal_chp['carrier'].to_list(), \n",
    "      marginal_cost=gen_coal_chp['marginal_cost'].to_list(),\n",
    "      p_max_pu=coal_chp_timeseries,\n",
    "      p_min_pu=0.9*coal_chp_timeseries,\n",
    "      efficiency=gen_coal_chp['efficiency'].to_list()\n",
    "      )\n",
    "\n",
    "network.madd('Generator', \n",
    "      gen_oil_chp.index,\n",
    "      bus=gen_oil_chp['bus'].to_list(), \n",
    "      p_nom_extendable=False, \n",
    "      p_nom=gen_oil_chp['p_nom'].to_list(), \n",
    "      carrier=gen_oil_chp['carrier'].to_list(), \n",
    "      marginal_cost=gen_oil_chp['marginal_cost'].to_list(),\n",
    "      p_max_pu=1.32*oil_chp_timeseries,\n",
    "      p_min_pu=oil_chp_timeseries,\n",
    "      efficiency=gen_oil_chp['efficiency'].to_list()\n",
    "      )\n",
    "\n",
    "network.madd('Generator', \n",
    "      gen_res_chp.index,\n",
    "      bus=gen_res_chp['bus'].to_list(), \n",
    "      p_nom_extendable=False, \n",
    "      p_nom=gen_res_chp['p_nom'].to_list(), \n",
    "      carrier=gen_res_chp['carrier'].to_list(), \n",
    "      marginal_cost=gen_res_chp['marginal_cost'].to_list(),\n",
    "      p_max_pu=1.32*res_chp_timeseries,\n",
    "      p_min_pu=res_chp_timeseries,\n",
    "      efficiency=gen_res_chp['efficiency'].to_list()\n",
    "      )\n",
    "\n",
    "network.madd('Generator', \n",
    "      gen_bio_chp.index,\n",
    "      bus=gen_bio_chp['bus'].to_list(), \n",
    "      p_nom_extendable=False, \n",
    "      p_nom=gen_bio_chp['p_nom'].to_list(), \n",
    "      carrier=gen_bio_chp['carrier'].to_list(), \n",
    "      marginal_cost=gen_bio_chp['marginal_cost'].to_list(),\n",
    "      p_max_pu=chp_bio,\n",
    "      p_min_pu=chp_bio*0.9,\n",
    "      efficiency=gen_bio_chp['efficiency'].to_list()\n",
    "      )\n",
    "\n",
    "network.madd(\"StorageUnit\", st_hps.index, bus=st_hps['bus'].tolist(), carrier=st_hps['carrier'].tolist(),\n",
    "             p_nom=st_hps['p_nom'].tolist(), p_nom_extendable=False, max_hours=st_hps['max_hours'].to_list(),\n",
    "             p_max_pu=st_hps['p_max_pu'].tolist(),\n",
    "             efficiency_dispatch=st_hps['efficiency_dispatch'].tolist(),\n",
    "             standing_loss=st_hps['standing_loss'].tolist())\n",
    "            \n",
    "network.madd(\"StorageUnit\", st_battery.index, bus=st_battery['bus'].tolist(), carrier=st_battery['carrier'].tolist(),\n",
    "             p_nom=st_battery['p_nom'].tolist(), p_nom_extendable=False, max_hours=st_battery['max_hours'].to_list(),\n",
    "             p_max_pu=st_battery['p_max_pu'].tolist(),\n",
    "             efficiency_dispatch=st_battery['efficiency_dispatch'].tolist(),\n",
    "             standing_loss=st_battery['standing_loss'].tolist())\n",
    "\n",
    "network.madd(\"StorageUnit\", st_other.index, bus=st_other['bus'].tolist(), carrier=st_other['carrier'].tolist(),\n",
    "             p_nom=st_other['p_nom'].tolist(), p_nom_extendable=False, max_hours=st_other['max_hours'].to_list(),\n",
    "             p_max_pu=st_other['p_max_pu'].tolist(),\n",
    "             efficiency_dispatch=st_other['efficiency_dispatch'].tolist(),\n",
    "             standing_loss=st_other['standing_loss'].tolist())\n",
    "\n",
    "network.madd(\"Link\", links_electrolysis.index,\n",
    "             bus0=links_electrolysis['bus0'].tolist(), bus1= links_electrolysis['bus1'].tolist(),\n",
    "             p_nom=links_electrolysis['p_nom'].tolist(), p_nom_extendable=links_electrolysis['p_nom_extendable'].tolist(), carrier=links_electrolysis['carrier'].tolist(), \n",
    "             efficiency=links_electrolysis['efficiency'].tolist())\n",
    "\n",
    "network.madd(\"Store\", st_hydrogen.index, bus=st_hydrogen['bus'].tolist(), carrier=st_hydrogen['carrier'].tolist(),\n",
    "             e_nom=st_hydrogen['e_nom'].tolist(), e_nom_extendable=False, e_cyclic=True)"
   ]
  },
  {
   "cell_type": "code",
   "execution_count": 19,
   "metadata": {},
   "outputs": [
    {
     "name": "stderr",
     "output_type": "stream",
     "text": [
      "<__array_function__ internals>:200: RuntimeWarning:\n",
      "\n",
      "invalid value encountered in cast\n",
      "\n",
      "<__array_function__ internals>:200: RuntimeWarning:\n",
      "\n",
      "invalid value encountered in cast\n",
      "\n",
      "<__array_function__ internals>:200: RuntimeWarning:\n",
      "\n",
      "invalid value encountered in cast\n",
      "\n",
      "<__array_function__ internals>:200: RuntimeWarning:\n",
      "\n",
      "invalid value encountered in cast\n",
      "\n",
      "INFO:linopy.model: Solve linear problem using Highs solver\n",
      "INFO:linopy.io:Writing objective.\n",
      "Writing constraints.: 100%|██████████| 21/21 [02:40<00:00,  7.64s/it]\n",
      "Writing variables.: 100%|██████████| 10/10 [00:29<00:00,  2.93s/it]\n",
      "INFO:linopy.io: Writing time: 205.14s\n",
      "INFO:linopy.solvers:Log file at C:\\Users\\Pawel\\AppData\\Local\\Temp\\highs.log.\n",
      "INFO:linopy.constants: Optimization successful: \n",
      "Status: ok\n",
      "Termination condition: optimal\n",
      "Solution: 20472137 primals, 42118097 duals\n",
      "Objective: 8.46e+10\n",
      "Solver model: available\n",
      "Solver message: optimal\n",
      "\n"
     ]
    },
    {
     "data": {
      "text/plain": [
       "('ok', 'optimal')"
      ]
     },
     "execution_count": 19,
     "metadata": {},
     "output_type": "execute_result"
    }
   ],
   "source": [
    "network.optimize(solver_name='highs')"
   ]
  },
  {
   "cell_type": "code",
   "execution_count": 20,
   "metadata": {},
   "outputs": [
    {
     "data": {
      "text/plain": [
       "carrier\n",
       "BECCS                   8.672400\n",
       "Biogas                 90.054886\n",
       "Biomass               104.709133\n",
       "CBF                     0.011551\n",
       "DSR                     0.339268\n",
       "Gas                   327.074829\n",
       "Gas CCS                 1.074547\n",
       "Hard coal              80.230190\n",
       "Hydro                 272.981332\n",
       "Hydrogen for power     12.963547\n",
       "Lignite                48.973451\n",
       "Nuclear               573.272270\n",
       "Oil                    65.039286\n",
       "Other RES             103.046946\n",
       "PV                    738.152715\n",
       "Wind                  870.562606\n",
       "Wind offshore         575.980027\n",
       "dtype: float64"
      ]
     },
     "execution_count": 20,
     "metadata": {},
     "output_type": "execute_result"
    }
   ],
   "source": [
    "p_by_carrier = network.generators_t.p.groupby(network.generators.carrier, axis=1).sum()\n",
    "generation_by_fuel_yearly = p_by_carrier.sum()/1000000\n",
    "generation_by_fuel_yearly"
   ]
  },
  {
   "cell_type": "code",
   "execution_count": 22,
   "metadata": {},
   "outputs": [],
   "source": [
    "prices = network.buses_t.marginal_price\n",
    "prices.to_csv('prices.csv')"
   ]
  },
  {
   "cell_type": "code",
   "execution_count": 24,
   "metadata": {},
   "outputs": [],
   "source": [
    "p_by_carrier = network.generators_t.p.groupby([network.generators.carrier, network.generators.bus], axis=1).sum()\n",
    "generation_by_fuel_by_country = p_by_carrier.sum()/1000000\n",
    "generation_by_fuel_by_country.to_csv('generation_by_fuel_by_country.csv')"
   ]
  },
  {
   "cell_type": "code",
   "execution_count": 25,
   "metadata": {},
   "outputs": [],
   "source": [
    "p_by_unit = network.generators_t.p.sum()/1000000\n",
    "generation_by_unit = p_by_unit\n",
    "generation_by_unit.to_csv('generation_by_unit.csv')"
   ]
  },
  {
   "cell_type": "code",
   "execution_count": 26,
   "metadata": {},
   "outputs": [],
   "source": [
    "generation_by_link = network.links_t.p0.sum()/1000000\n",
    "country_from = ['UK' if c == 'EN' else 'UK' if c == 'Sc' else 'UK' if c == 'No' else c for c in generation_by_link.index.str[5:7]]\n",
    "country_to = ['UK' if c.islower() else c for c in generation_by_link.index.str[-2:]]\n",
    "generation_by_link = generation_by_link.to_frame(name='TWh')\n",
    "generation_by_link['from'] = country_from\n",
    "generation_by_link['to'] = country_to\n",
    "generation_by_link.to_csv('generation_by_link.csv')"
   ]
  },
  {
   "cell_type": "code",
   "execution_count": 34,
   "metadata": {},
   "outputs": [],
   "source": [
    "generation_by_link = network.links_t.p0\n",
    "generation_by_link.to_csv('generation_by_link_hourly.csv')"
   ]
  },
  {
   "cell_type": "code",
   "execution_count": 27,
   "metadata": {},
   "outputs": [],
   "source": [
    "generation_by_line = network.lines_t.p0.sum()/1000000\n",
    "generation_by_line.to_csv('generation_by_line.csv')"
   ]
  },
  {
   "cell_type": "code",
   "execution_count": 28,
   "metadata": {},
   "outputs": [],
   "source": [
    "original_line_capacity = network.lines.s_nom\n",
    "optimized_line_capacity = network.lines.s_nom_opt\n",
    "optimized_line_capacity.to_csv('line_s_nom_opt.csv')"
   ]
  },
  {
   "cell_type": "code",
   "execution_count": 30,
   "metadata": {},
   "outputs": [
    {
     "data": {
      "text/plain": [
       "carrier\n",
       "BECCS                               0.22%\n",
       "Biogas                              2.33%\n",
       "Biomass                              2.7%\n",
       "DSR                                 0.01%\n",
       "Gas                                 8.44%\n",
       "Gas CCS                             0.03%\n",
       "Hard coal                           2.07%\n",
       "Hydro                  7.049999999999999%\n",
       "Hydrogen for power                  0.33%\n",
       "Lignite                             1.26%\n",
       "Nuclear               14.799999999999999%\n",
       "Oil                                 1.68%\n",
       "Other RES             2.6599999999999997%\n",
       "PV                                 19.06%\n",
       "Wind                               22.48%\n",
       "Wind offshore                      14.87%\n",
       "dtype: object"
      ]
     },
     "execution_count": 30,
     "metadata": {},
     "output_type": "execute_result"
    }
   ],
   "source": [
    "domestic_generation_by_fuel_yearly = generation_by_fuel_yearly\n",
    "domestic_generation_by_fuel_yearly=domestic_generation_by_fuel_yearly.drop('CBF')\n",
    "generation_by_fuel_yearly_percentage = domestic_generation_by_fuel_yearly.div(domestic_generation_by_fuel_yearly.sum(), axis=0)\n",
    "generation_by_fuel_yearly_percentage = generation_by_fuel_yearly_percentage.round(4)\n",
    "generation_by_fuel_yearly_percentage = (generation_by_fuel_yearly_percentage * 100).astype(str) + '%'\n",
    "generation_by_fuel_yearly_percentage"
   ]
  },
  {
   "cell_type": "code",
   "execution_count": null,
   "metadata": {},
   "outputs": [],
   "source": [
    "capacity_by_fuel = network.generators.groupby(\"carrier\")[\"p_nom\"].sum()\n",
    "capacity_by_fuel"
   ]
  },
  {
   "cell_type": "code",
   "execution_count": null,
   "metadata": {},
   "outputs": [],
   "source": [
    "storage_capacity = network.storage_units.groupby(\"carrier\")[\"p_nom\"].sum()\n",
    "storage_capacity"
   ]
  },
  {
   "cell_type": "code",
   "execution_count": null,
   "metadata": {},
   "outputs": [],
   "source": [
    "generation_carriers = pd.merge(network.generators, network.carriers, left_on=\"carrier\", right_index=True)\n",
    "emissions = network.generators_t.p * generation_carriers[\"co2_emissions\"] / generation_carriers[\"efficiency\"]\n",
    "\n",
    "(emissions.sum().sum()*1000000000000/1000000)/(generation_by_fuel_yearly.sum()*1000000000)"
   ]
  },
  {
   "cell_type": "code",
   "execution_count": null,
   "metadata": {},
   "outputs": [],
   "source": [
    "emissions.sum().sum()/1000000"
   ]
  },
  {
   "cell_type": "code",
   "execution_count": 35,
   "metadata": {},
   "outputs": [],
   "source": [
    "output = network.stores_t.p\n",
    "state_of_charge = network.stores_t.e\n",
    "output.to_csv('store_output.csv')\n",
    "state_of_charge.to_csv('store_state_of_charge.csv')"
   ]
  }
 ],
 "metadata": {
  "kernelspec": {
   "display_name": "pypsa-310",
   "language": "python",
   "name": "pypsa-310"
  },
  "language_info": {
   "codemirror_mode": {
    "name": "ipython",
    "version": 3
   },
   "file_extension": ".py",
   "mimetype": "text/x-python",
   "name": "python",
   "nbconvert_exporter": "python",
   "pygments_lexer": "ipython3",
   "version": "3.10.9"
  },
  "vscode": {
   "interpreter": {
    "hash": "c17fc206160ce04fb92bd438260435e69a12981659536eb17447339967eb38b5"
   }
  }
 },
 "nbformat": 4,
 "nbformat_minor": 2
}
